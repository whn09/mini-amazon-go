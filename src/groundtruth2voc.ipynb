{
 "cells": [
  {
   "cell_type": "code",
   "execution_count": 2,
   "metadata": {},
   "outputs": [
    {
     "name": "stdout",
     "output_type": "stream",
     "text": [
      "Collecting json2xml\n",
      "  Downloading json2xml-3.5.0-py2.py3-none-any.whl (4.6 kB)\n",
      "Collecting dicttoxml==1.7.4\n",
      "  Downloading dicttoxml-1.7.4.tar.gz (18 kB)\n",
      "Collecting xmltodict==0.11.0\n",
      "  Downloading xmltodict-0.11.0-py2.py3-none-any.whl (7.2 kB)\n",
      "Requirement already satisfied: requests>=2.20.0 in /home/ec2-user/anaconda3/envs/python3/lib/python3.6/site-packages (from json2xml) (2.22.0)\n",
      "Requirement already satisfied: urllib3!=1.25.0,!=1.25.1,<1.26,>=1.21.1 in /home/ec2-user/anaconda3/envs/python3/lib/python3.6/site-packages (from requests>=2.20.0->json2xml) (1.25.10)\n",
      "Requirement already satisfied: chardet<3.1.0,>=3.0.2 in /home/ec2-user/anaconda3/envs/python3/lib/python3.6/site-packages (from requests>=2.20.0->json2xml) (3.0.4)\n",
      "Requirement already satisfied: idna<2.9,>=2.5 in /home/ec2-user/anaconda3/envs/python3/lib/python3.6/site-packages (from requests>=2.20.0->json2xml) (2.8)\n",
      "Requirement already satisfied: certifi>=2017.4.17 in /home/ec2-user/anaconda3/envs/python3/lib/python3.6/site-packages (from requests>=2.20.0->json2xml) (2020.6.20)\n",
      "Building wheels for collected packages: dicttoxml\n",
      "  Building wheel for dicttoxml (setup.py) ... \u001b[?25ldone\n",
      "\u001b[?25h  Created wheel for dicttoxml: filename=dicttoxml-1.7.4-py3-none-any.whl size=17451 sha256=b0a28c91d2ef079e8ac291439c26af8958ffa4b833d3e5c6f55f1c219902e03e\n",
      "  Stored in directory: /home/ec2-user/.cache/pip/wheels/bf/0d/49/4705555a301b49014622455b2eb65dd2a1d3835153e4d78eb8\n",
      "Successfully built dicttoxml\n",
      "Installing collected packages: dicttoxml, xmltodict, json2xml\n",
      "Successfully installed dicttoxml-1.7.4 json2xml-3.5.0 xmltodict-0.11.0\n",
      "\u001b[33mWARNING: You are using pip version 20.0.2; however, version 20.2.4 is available.\n",
      "You should consider upgrading via the '/home/ec2-user/anaconda3/envs/python3/bin/python -m pip install --upgrade pip' command.\u001b[0m\n"
     ]
    }
   ],
   "source": [
    "!pip install json2xml"
   ]
  },
  {
   "cell_type": "code",
   "execution_count": 1,
   "metadata": {},
   "outputs": [],
   "source": [
    "import cv2\n",
    "import os\n",
    "import json\n",
    "from json2xml import json2xml"
   ]
  },
  {
   "cell_type": "code",
   "execution_count": 2,
   "metadata": {},
   "outputs": [],
   "source": [
    "def cocojson2vocxml(filename, data, task_name):\n",
    "#     data = json.load(open(filename, 'r'))\n",
    "    class_map = data[task_name+'-metadata']['class-map']\n",
    "    objects = []\n",
    "    for annotation in data[task_name]['annotations']:\n",
    "        obj = {\n",
    "            'name': class_map[str(annotation['class_id'])],\n",
    "            'pose': 'Unspecified', \n",
    "            'truncated': 0, \n",
    "            'difficult': 0, \n",
    "            'bndbox': {'xmin': int(annotation['left'])+1, 'ymin': int(annotation['top'])+1, 'xmax': int(annotation['left'])+int(annotation['width']), 'ymax': int(annotation['top'])+int(annotation['height'])}}\n",
    "        objects.append(obj)\n",
    "    new_data = {\n",
    "        'folder': '', \n",
    "        'filename': filename.split('/')[-1], \n",
    "        'path': '', \n",
    "        'source': {}, \n",
    "        'size': {'width': data[task_name]['image_size'][0]['width'], 'height': data[task_name]['image_size'][0]['height'], 'depth': data[task_name]['image_size'][0]['depth']}, \n",
    "        'object': 'TODO'\n",
    "    }\n",
    "    if len(objects) == 0:\n",
    "        print('len(objects) == 0:', filename)\n",
    "        os.system('rm -rf '+filename)\n",
    "    # print(new_data)\n",
    "    xml = json2xml.Json2xml(new_data, wrapper='annotation', pretty=True, attr_type=False).to_xml()\n",
    "    objects_xml = ''\n",
    "    for obj in objects:\n",
    "        object_xml = json2xml.Json2xml(obj, wrapper='object', pretty=True, attr_type=False).to_xml()\n",
    "        objects_xml += object_xml.replace('<?xml version=\"1.0\" ?>', '')+'\\n'\n",
    "    xml = xml.replace('<object>TODO</object>', objects_xml)\n",
    "    with open(filename.replace('.jpg', '.xml'), 'w') as fout:\n",
    "        fout.write(xml)\n",
    "\n",
    "def coco2voc(dirname, anno_filename, task_name):\n",
    "    fin = open(anno_filename, 'r')\n",
    "    lines = fin.readlines()\n",
    "    annos = {}\n",
    "    for line in lines:\n",
    "        line_json = json.loads(line)\n",
    "        source_ref = line_json['source-ref']\n",
    "        filename = source_ref.split('/')[-1]\n",
    "        annos[filename] = line_json\n",
    "    fin.close()\n",
    "    filenames = os.listdir(dirname)\n",
    "    for filename in filenames:\n",
    "        if filename.endswith('.jpg'):\n",
    "            img = cv2.imread(os.path.join(dirname, filename))\n",
    "            if img is None:\n",
    "                print('img error:', os.path.join(dirname, filename))\n",
    "            cocojson2vocxml(os.path.join(dirname, filename), annos[filename], task_name)            "
   ]
  },
  {
   "cell_type": "code",
   "execution_count": 3,
   "metadata": {},
   "outputs": [
    {
     "name": "stdout",
     "output_type": "stream",
     "text": [
      "len(objects) == 0: ../images/shenzhen_v1/frame_1604547974.6192327.jpg\n",
      "len(objects) == 0: ../images/shenzhen_v1/frame_1604547986.9444692.jpg\n",
      "len(objects) == 0: ../images/shenzhen_v1/frame_1604547911.9206586.jpg\n",
      "len(objects) == 0: ../images/shenzhen_v1/frame_1604547913.9768825.jpg\n",
      "len(objects) == 0: ../images/shenzhen_v1/frame_1604547912.9493163.jpg\n",
      "len(objects) == 0: ../images/shenzhen_v1/frame_1604547984.8893764.jpg\n",
      "len(objects) == 0: ../images/shenzhen_v1/frame_1604547876.9673884.jpg\n",
      "len(objects) == 0: ../images/shenzhen_v1/frame_1604547979.7544994.jpg\n",
      "len(objects) == 0: ../images/shenzhen_v1/frame_1604547959.2061322.jpg\n",
      "len(objects) == 0: ../images/shenzhen_v1/frame_1604547879.023882.jpg\n",
      "len(objects) == 0: ../images/shenzhen_v1/frame_1604547985.9169219.jpg\n",
      "len(objects) == 0: ../images/shenzhen_v1/frame_1604547966.3975353.jpg\n",
      "len(objects) == 0: ../images/shenzhen_v1/frame_1604547980.7815557.jpg\n",
      "len(objects) == 0: ../images/shenzhen_v1/frame_1604547877.99718.jpg\n",
      "len(objects) == 0: ../images/shenzhen_v1/frame_1604547915.0041542.jpg\n",
      "len(objects) == 0: ../images/shenzhen_v1/frame_1604547981.8092825.jpg\n",
      "len(objects) == 0: ../images/shenzhen_v1/frame_1604547973.5916226.jpg\n",
      "len(objects) == 0: ../images/shenzhen_v1/frame_1604547958.177623.jpg\n",
      "len(objects) == 0: ../images/shenzhen_v1/frame_1604547967.4278543.jpg\n",
      "len(objects) == 0: ../images/shenzhen_v1/frame_1604547972.56478.jpg\n"
     ]
    }
   ],
   "source": [
    "image_dir = '../images/shenzhen_v1'\n",
    "anno_filename = '../images/shenzhen_v1/mini-amazon-go-shenzhen-v1/manifests/output/output.manifest'\n",
    "task_name = 'mini-amazon-go-shenzhen-v1'\n",
    "coco2voc(image_dir, anno_filename, task_name)"
   ]
  },
  {
   "cell_type": "code",
   "execution_count": null,
   "metadata": {},
   "outputs": [],
   "source": []
  }
 ],
 "metadata": {
  "kernelspec": {
   "display_name": "conda_python3",
   "language": "python",
   "name": "conda_python3"
  },
  "language_info": {
   "codemirror_mode": {
    "name": "ipython",
    "version": 3
   },
   "file_extension": ".py",
   "mimetype": "text/x-python",
   "name": "python",
   "nbconvert_exporter": "python",
   "pygments_lexer": "ipython3",
   "version": "3.6.10"
  }
 },
 "nbformat": 4,
 "nbformat_minor": 4
}
